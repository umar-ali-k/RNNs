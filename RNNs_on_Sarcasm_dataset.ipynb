{
  "nbformat": 4,
  "nbformat_minor": 0,
  "metadata": {
    "colab": {
      "name": "RNNs_on_Sarcasm_dataset.ipynb",
      "provenance": [],
      "collapsed_sections": [],
      "include_colab_link": true
    },
    "kernelspec": {
      "name": "python3",
      "display_name": "Python 3"
    },
    "accelerator": "GPU"
  },
  "cells": [
    {
      "cell_type": "markdown",
      "metadata": {
        "id": "view-in-github",
        "colab_type": "text"
      },
      "source": [
        "<a href=\"https://colab.research.google.com/github/umar-ali-k/RNNs/blob/master/RNNs_on_Sarcasm_dataset.ipynb\" target=\"_parent\"><img src=\"https://colab.research.google.com/assets/colab-badge.svg\" alt=\"Open In Colab\"/></a>"
      ]
    },
    {
      "cell_type": "markdown",
      "metadata": {
        "id": "XhZ1zPUS0MnB",
        "colab_type": "text"
      },
      "source": [
        "## Import necessary packages"
      ]
    },
    {
      "cell_type": "code",
      "metadata": {
        "id": "-ZCGAOq6zCNh",
        "colab_type": "code",
        "colab": {}
      },
      "source": [
        "import json\n",
        "import tensorflow as tf\n",
        "\n",
        "from tensorflow.keras.preprocessing.text import Tokenizer\n",
        "from tensorflow.keras.preprocessing.sequence import pad_sequences"
      ],
      "execution_count": 0,
      "outputs": []
    },
    {
      "cell_type": "markdown",
      "metadata": {
        "id": "OSA-U31O0IWF",
        "colab_type": "text"
      },
      "source": [
        "## Install tensorflow 2.0 "
      ]
    },
    {
      "cell_type": "code",
      "metadata": {
        "id": "BedvhNDuzIET",
        "colab_type": "code",
        "colab": {}
      },
      "source": [
        "!pip install tensorflow==2.0.0-beta0"
      ],
      "execution_count": 0,
      "outputs": []
    },
    {
      "cell_type": "markdown",
      "metadata": {
        "id": "HbU6-Ca0z024",
        "colab_type": "text"
      },
      "source": [
        "# Get the Sarcasm Dataset"
      ]
    },
    {
      "cell_type": "code",
      "metadata": {
        "id": "VxYRG87gzcSJ",
        "colab_type": "code",
        "colab": {}
      },
      "source": [
        "!wget --no-check-certificate \\\n",
        "    https://storage.googleapis.com/laurencemoroney-blog.appspot.com/sarcasm.json \\\n",
        "    -O /tmp/sarcasm.json"
      ],
      "execution_count": 0,
      "outputs": []
    },
    {
      "cell_type": "markdown",
      "metadata": {
        "id": "tVyMQsR67imp",
        "colab_type": "text"
      },
      "source": [
        "## Set the hyper-parametres"
      ]
    },
    {
      "cell_type": "code",
      "metadata": {
        "id": "YsbucjYj7hR8",
        "colab_type": "code",
        "colab": {}
      },
      "source": [
        "vocab_size = 1000\n",
        "embedding_dim = 16\n",
        "max_length = 120\n",
        "trunc_type='post'\n",
        "padding_type='post'\n",
        "oov_tok = \"<OOV>\"\n",
        "training_size = 20000"
      ],
      "execution_count": 0,
      "outputs": []
    },
    {
      "cell_type": "markdown",
      "metadata": {
        "id": "QhjPVdkHzyKw",
        "colab_type": "text"
      },
      "source": [
        "## Extract training sentences and labels"
      ]
    },
    {
      "cell_type": "code",
      "metadata": {
        "id": "_Ts61zVecVaM",
        "colab_type": "code",
        "colab": {}
      },
      "source": [
        "with open(\"/tmp/sarcasm.json\", 'r') as f:\n",
        "    datastore = json.load(f)\n",
        "\n",
        "\n",
        "sentences = []\n",
        "labels = []\n",
        "urls = []\n",
        "for item in datastore:\n",
        "    sentences.append(item['headline'])\n",
        "    labels.append(item['is_sarcastic'])\n",
        "\n",
        "training_sentences = sentences[0:training_size]\n",
        "testing_sentences = sentences[training_size:]\n",
        "training_labels = labels[0:training_size]\n",
        "testing_labels = labels[training_size:]\n"
      ],
      "execution_count": 0,
      "outputs": []
    },
    {
      "cell_type": "markdown",
      "metadata": {
        "id": "6FBbprEkz_29",
        "colab_type": "text"
      },
      "source": [
        "# Tokenize and pad the sequences"
      ]
    },
    {
      "cell_type": "code",
      "metadata": {
        "id": "NHhrtH6V0VZ1",
        "colab_type": "code",
        "colab": {}
      },
      "source": [
        "tokenizer = Tokenizer(num_words=vocab_size, oov_token=oov_tok)\n",
        "tokenizer.fit_on_texts(training_sentences)\n",
        "\n",
        "word_index = tokenizer.word_index\n",
        "\n",
        "training_sequences = tokenizer.texts_to_sequences(training_sentences)\n",
        "training_padded = pad_sequences(training_sequences, maxlen=max_length, padding=padding_type, truncating=trunc_type)\n",
        "\n",
        "testing_sequences = tokenizer.texts_to_sequences(testing_sentences)\n",
        "testing_padded = pad_sequences(testing_sequences, maxlen=max_length, padding=padding_type, truncating=trunc_type)"
      ],
      "execution_count": 0,
      "outputs": []
    },
    {
      "cell_type": "markdown",
      "metadata": {
        "id": "X9W6sDwU0eOQ",
        "colab_type": "text"
      },
      "source": [
        "## Sequential Model having a Conv 1D layer"
      ]
    },
    {
      "cell_type": "code",
      "metadata": {
        "id": "XuL5RfuV0Y5o",
        "colab_type": "code",
        "colab": {}
      },
      "source": [
        "model = tf.keras.Sequential([\n",
        "    tf.keras.layers.Embedding(vocab_size, embedding_dim, input_length=max_length),\n",
        "    tf.keras.layers.Conv1D(128, 5, activation='relu'),\n",
        "    tf.keras.layers.GlobalMaxPooling1D(),\n",
        "    tf.keras.layers.Dense(24, activation='relu'),\n",
        "    tf.keras.layers.Dense(1, activation='sigmoid')\n",
        "])"
      ],
      "execution_count": 0,
      "outputs": []
    },
    {
      "cell_type": "markdown",
      "metadata": {
        "id": "b3azsMfk0sEF",
        "colab_type": "text"
      },
      "source": [
        "### Print the summary of the model"
      ]
    },
    {
      "cell_type": "code",
      "metadata": {
        "id": "41xmjAVI0cML",
        "colab_type": "code",
        "outputId": "6b83f9fe-9140-4acf-fd03-477319820cad",
        "colab": {
          "base_uri": "https://localhost:8080/",
          "height": 333
        }
      },
      "source": [
        "model.summary()\n"
      ],
      "execution_count": 40,
      "outputs": [
        {
          "output_type": "stream",
          "text": [
            "Model: \"sequential_9\"\n",
            "_________________________________________________________________\n",
            "Layer (type)                 Output Shape              Param #   \n",
            "=================================================================\n",
            "embedding_9 (Embedding)      (None, 120, 16)           16000     \n",
            "_________________________________________________________________\n",
            "conv1d_3 (Conv1D)            (None, 116, 128)          10368     \n",
            "_________________________________________________________________\n",
            "global_max_pooling1d (Global (None, 128)               0         \n",
            "_________________________________________________________________\n",
            "dense_18 (Dense)             (None, 24)                3096      \n",
            "_________________________________________________________________\n",
            "dense_19 (Dense)             (None, 1)                 25        \n",
            "=================================================================\n",
            "Total params: 29,489\n",
            "Trainable params: 29,489\n",
            "Non-trainable params: 0\n",
            "_________________________________________________________________\n"
          ],
          "name": "stdout"
        }
      ]
    },
    {
      "cell_type": "markdown",
      "metadata": {
        "id": "tnl4CvQN02_J",
        "colab_type": "text"
      },
      "source": [
        "## Compile the model"
      ]
    },
    {
      "cell_type": "code",
      "metadata": {
        "id": "Ah7Cchu202Yc",
        "colab_type": "code",
        "colab": {}
      },
      "source": [
        "model.compile(loss='binary_crossentropy', optimizer='adam', metrics=['accuracy'])"
      ],
      "execution_count": 0,
      "outputs": []
    },
    {
      "cell_type": "markdown",
      "metadata": {
        "id": "52NkL58P1Ayn",
        "colab_type": "text"
      },
      "source": [
        "## Set the number of epochs and fit the model"
      ]
    },
    {
      "cell_type": "code",
      "metadata": {
        "id": "Wl5CfJQ40-ZL",
        "colab_type": "code",
        "outputId": "ffd45a6d-7687-43cc-b30d-8f892c3e9418",
        "colab": {
          "base_uri": "https://localhost:8080/",
          "height": 406
        }
      },
      "source": [
        "num_epochs = 10\n",
        "history = model.fit(training_padded, training_labels, epochs=num_epochs, validation_data=(testing_padded, testing_labels), verbose=1)"
      ],
      "execution_count": 43,
      "outputs": [
        {
          "output_type": "stream",
          "text": [
            "Train on 20000 samples, validate on 6709 samples\n",
            "Epoch 1/10\n",
            "20000/20000 [==============================] - 9s 447us/sample - loss: 0.4698 - accuracy: 0.7633 - val_loss: 0.4087 - val_accuracy: 0.8132\n",
            "Epoch 2/10\n",
            "20000/20000 [==============================] - 9s 436us/sample - loss: 0.3637 - accuracy: 0.8346 - val_loss: 0.3932 - val_accuracy: 0.8190\n",
            "Epoch 3/10\n",
            "20000/20000 [==============================] - 9s 433us/sample - loss: 0.3261 - accuracy: 0.8582 - val_loss: 0.3918 - val_accuracy: 0.8201\n",
            "Epoch 4/10\n",
            "20000/20000 [==============================] - 9s 432us/sample - loss: 0.2936 - accuracy: 0.8734 - val_loss: 0.4006 - val_accuracy: 0.8220\n",
            "Epoch 5/10\n",
            "20000/20000 [==============================] - 9s 433us/sample - loss: 0.2622 - accuracy: 0.8869 - val_loss: 0.4309 - val_accuracy: 0.8144\n",
            "Epoch 6/10\n",
            "20000/20000 [==============================] - 9s 447us/sample - loss: 0.2297 - accuracy: 0.9053 - val_loss: 0.4412 - val_accuracy: 0.8125\n",
            "Epoch 7/10\n",
            "20000/20000 [==============================] - 9s 459us/sample - loss: 0.1944 - accuracy: 0.9238 - val_loss: 0.4882 - val_accuracy: 0.8159\n",
            "Epoch 8/10\n",
            "20000/20000 [==============================] - 9s 459us/sample - loss: 0.1644 - accuracy: 0.9377 - val_loss: 0.5332 - val_accuracy: 0.8089\n",
            "Epoch 9/10\n",
            "20000/20000 [==============================] - 9s 459us/sample - loss: 0.1355 - accuracy: 0.9492 - val_loss: 0.5647 - val_accuracy: 0.8000\n",
            "Epoch 10/10\n",
            "20000/20000 [==============================] - 9s 465us/sample - loss: 0.1116 - accuracy: 0.9589 - val_loss: 0.6751 - val_accuracy: 0.8027\n"
          ],
          "name": "stdout"
        }
      ]
    },
    {
      "cell_type": "markdown",
      "metadata": {
        "id": "CF1TRJlo1k0E",
        "colab_type": "text"
      },
      "source": [
        "## Write plot_graphs function to plot the accuracy and loss"
      ]
    },
    {
      "cell_type": "code",
      "metadata": {
        "id": "s-DiXjOH1LlA",
        "colab_type": "code",
        "colab": {}
      },
      "source": [
        "import matplotlib.pyplot as plt\n",
        "\n",
        "\n",
        "def plot_graphs(history, string):\n",
        "  plt.plot(history.history[string])\n",
        "  plt.plot(history.history['val_'+string])\n",
        "  plt.xlabel(\"Epochs\")\n",
        "  plt.ylabel(string)\n",
        "  plt.legend([string, 'val_'+string])\n",
        "  plt.show()"
      ],
      "execution_count": 0,
      "outputs": []
    },
    {
      "cell_type": "markdown",
      "metadata": {
        "id": "i9sVWVKZ1y8k",
        "colab_type": "text"
      },
      "source": [
        "## Accuracy"
      ]
    },
    {
      "cell_type": "code",
      "metadata": {
        "id": "YKbmZTd-11_W",
        "colab_type": "code",
        "colab": {
          "base_uri": "https://localhost:8080/",
          "height": 279
        },
        "outputId": "acabf020-43f0-46e6-90dd-6fa4fc2b3956"
      },
      "source": [
        "plot_graphs(history, 'accuracy')\n"
      ],
      "execution_count": 45,
      "outputs": [
        {
          "output_type": "display_data",
          "data": {
            "image/png": "[encoded data removed]",
            "text/plain": [
              "<Figure size 432x288 with 1 Axes>"
            ]
          },
          "metadata": {
            "tags": []
          }
        }
      ]
    },
    {
      "cell_type": "markdown",
      "metadata": {
        "id": "qDfPYOs-16iF",
        "colab_type": "text"
      },
      "source": [
        "## Loss"
      ]
    },
    {
      "cell_type": "code",
      "metadata": {
        "id": "0PcmQ4Kc17-E",
        "colab_type": "code",
        "colab": {
          "base_uri": "https://localhost:8080/",
          "height": 282
        },
        "outputId": "4041191c-7c10-49d0-a394-ca4607cf4c7e"
      },
      "source": [
        "plot_graphs(history, 'loss')"
      ],
      "execution_count": 46,
      "outputs": [
        {
          "output_type": "display_data",
          "data": {
            "image/png": "[encoded data removed]",
            "text/plain": [
              "<Figure size 432x288 with 1 Axes>"
            ]
          },
          "metadata": {
            "tags": []
          }
        }
      ]
    },
    {
      "cell_type": "markdown",
      "metadata": {
        "id": "Gve7UU2R5pxu",
        "colab_type": "text"
      },
      "source": [
        "### Model Definition with LSTM"
      ]
    },
    {
      "cell_type": "code",
      "metadata": {
        "id": "1EgXGVxc5hLA",
        "colab_type": "code",
        "colab": {
          "base_uri": "https://localhost:8080/",
          "height": 298
        },
        "outputId": "7bcbdab0-7f68-4f14-cc8e-bcb74bcd6b97"
      },
      "source": [
        "model = tf.keras.Sequential([\n",
        "    tf.keras.layers.Embedding(vocab_size, embedding_dim, input_length=max_length),\n",
        "    tf.keras.layers.Bidirectional(tf.keras.layers.LSTM(32)),\n",
        "    tf.keras.layers.Dense(24, activation='relu'),\n",
        "    tf.keras.layers.Dense(1, activation='sigmoid')\n",
        "])\n",
        "model.compile(loss='binary_crossentropy',optimizer='adam',metrics=['accuracy'])\n",
        "model.summary()"
      ],
      "execution_count": 47,
      "outputs": [
        {
          "output_type": "stream",
          "text": [
            "Model: \"sequential_10\"\n",
            "_________________________________________________________________\n",
            "Layer (type)                 Output Shape              Param #   \n",
            "=================================================================\n",
            "embedding_10 (Embedding)     (None, 120, 16)           16000     \n",
            "_________________________________________________________________\n",
            "bidirectional_7 (Bidirection (None, 64)                12544     \n",
            "_________________________________________________________________\n",
            "dense_20 (Dense)             (None, 24)                1560      \n",
            "_________________________________________________________________\n",
            "dense_21 (Dense)             (None, 1)                 25        \n",
            "=================================================================\n",
            "Total params: 30,129\n",
            "Trainable params: 30,129\n",
            "Non-trainable params: 0\n",
            "_________________________________________________________________\n"
          ],
          "name": "stdout"
        }
      ]
    },
    {
      "cell_type": "markdown",
      "metadata": {
        "id": "wbIcAgv99iA7",
        "colab_type": "text"
      },
      "source": [
        "## Set the number of epochs and fit the model"
      ]
    },
    {
      "cell_type": "code",
      "metadata": {
        "id": "-nqnnr_z9i0J",
        "colab_type": "code",
        "colab": {
          "base_uri": "https://localhost:8080/",
          "height": 406
        },
        "outputId": "2fc7a32c-5c9a-45b6-bb7c-55da921c6986"
      },
      "source": [
        "num_epochs = 10\n",
        "history = model.fit(training_padded, training_labels, epochs=num_epochs, validation_data=(testing_padded, testing_labels), verbose=1)"
      ],
      "execution_count": 48,
      "outputs": [
        {
          "output_type": "stream",
          "text": [
            "Train on 20000 samples, validate on 6709 samples\n",
            "Epoch 1/10\n",
            "20000/20000 [==============================] - 61s 3ms/sample - loss: 0.4538 - accuracy: 0.7695 - val_loss: 0.3874 - val_accuracy: 0.8204\n",
            "Epoch 2/10\n",
            "20000/20000 [==============================] - 60s 3ms/sample - loss: 0.3583 - accuracy: 0.8342 - val_loss: 0.3965 - val_accuracy: 0.8143\n",
            "Epoch 3/10\n",
            "20000/20000 [==============================] - 61s 3ms/sample - loss: 0.3360 - accuracy: 0.8457 - val_loss: 0.3729 - val_accuracy: 0.8298\n",
            "Epoch 4/10\n",
            "20000/20000 [==============================] - 60s 3ms/sample - loss: 0.3176 - accuracy: 0.8575 - val_loss: 0.3830 - val_accuracy: 0.8231\n",
            "Epoch 5/10\n",
            "20000/20000 [==============================] - 60s 3ms/sample - loss: 0.3072 - accuracy: 0.8632 - val_loss: 0.3829 - val_accuracy: 0.8286\n",
            "Epoch 6/10\n",
            "20000/20000 [==============================] - 60s 3ms/sample - loss: 0.2978 - accuracy: 0.8674 - val_loss: 0.3757 - val_accuracy: 0.8298\n",
            "Epoch 7/10\n",
            "20000/20000 [==============================] - 60s 3ms/sample - loss: 0.2887 - accuracy: 0.8739 - val_loss: 0.3841 - val_accuracy: 0.8295\n",
            "Epoch 8/10\n",
            "20000/20000 [==============================] - 59s 3ms/sample - loss: 0.2809 - accuracy: 0.8782 - val_loss: 0.3844 - val_accuracy: 0.8304\n",
            "Epoch 9/10\n",
            "20000/20000 [==============================] - 60s 3ms/sample - loss: 0.2721 - accuracy: 0.8801 - val_loss: 0.3911 - val_accuracy: 0.8287\n",
            "Epoch 10/10\n",
            "20000/20000 [==============================] - 61s 3ms/sample - loss: 0.2651 - accuracy: 0.8838 - val_loss: 0.3924 - val_accuracy: 0.8275\n"
          ],
          "name": "stdout"
        }
      ]
    },
    {
      "cell_type": "markdown",
      "metadata": {
        "id": "Wq3qAqVaAHYZ",
        "colab_type": "text"
      },
      "source": [
        "## Write plot_graphs function "
      ]
    },
    {
      "cell_type": "code",
      "metadata": {
        "id": "D-Gs6uRT9nmI",
        "colab_type": "code",
        "colab": {}
      },
      "source": [
        "import matplotlib.pyplot as plt\n",
        "\n",
        "\n",
        "def plot_graphs(history, string):\n",
        "  plt.plot(history.history[string])\n",
        "  plt.plot(history.history['val_'+string])\n",
        "  plt.xlabel(\"Epochs\")\n",
        "  plt.ylabel(string)\n",
        "  plt.legend([string, 'val_'+string])\n",
        "  plt.show()\n"
      ],
      "execution_count": 0,
      "outputs": []
    },
    {
      "cell_type": "markdown",
      "metadata": {
        "id": "De3H2LV7AT0K",
        "colab_type": "text"
      },
      "source": [
        "## Accuracy"
      ]
    },
    {
      "cell_type": "code",
      "metadata": {
        "id": "2eLHHNLoAGSe",
        "colab_type": "code",
        "colab": {
          "base_uri": "https://localhost:8080/",
          "height": 279
        },
        "outputId": "01d1e2b4-070d-4266-ce09-2bf73d24e447"
      },
      "source": [
        "plot_graphs(history, 'accuracy')"
      ],
      "execution_count": 52,
      "outputs": [
        {
          "output_type": "display_data",
          "data": {
            "image/png": "[encoded data removed]",
            "text/plain": [
              "<Figure size 432x288 with 1 Axes>"
            ]
          },
          "metadata": {
            "tags": []
          }
        }
      ]
    },
    {
      "cell_type": "markdown",
      "metadata": {
        "id": "Dm3PxN8NAsKw",
        "colab_type": "text"
      },
      "source": [
        "## Loss"
      ]
    },
    {
      "cell_type": "code",
      "metadata": {
        "id": "8xx4JR6AAYvJ",
        "colab_type": "code",
        "colab": {
          "base_uri": "https://localhost:8080/",
          "height": 279
        },
        "outputId": "b57f247c-d178-4ae2-832b-9a367e8d9e0e"
      },
      "source": [
        "plot_graphs(history, 'loss')"
      ],
      "execution_count": 53,
      "outputs": [
        {
          "output_type": "display_data",
          "data": {
            "image/png": "[encoded data removed]",
            "text/plain": [
              "<Figure size 432x288 with 1 Axes>"
            ]
          },
          "metadata": {
            "tags": []
          }
        }
      ]
    }
  ]
}